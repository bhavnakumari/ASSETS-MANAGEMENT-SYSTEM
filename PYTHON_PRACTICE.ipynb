{
 "cells": [
  {
   "cell_type": "markdown",
   "metadata": {},
   "source": [
    "# HELLO WORLD\n"
   ]
  },
  {
   "cell_type": "code",
   "execution_count": 1,
   "metadata": {},
   "outputs": [
    {
     "name": "stdout",
     "output_type": "stream",
     "text": [
      "HELLO WORLD\n"
     ]
    }
   ],
   "source": [
    "print(\"HELLO WORLD\")"
   ]
  },
  {
   "cell_type": "markdown",
   "metadata": {},
   "source": [
    "# PRINT AN INTEGER ENTERED BY THE USER"
   ]
  },
  {
   "cell_type": "code",
   "execution_count": 2,
   "metadata": {},
   "outputs": [
    {
     "name": "stdout",
     "output_type": "stream",
     "text": [
      "ENTER AN INTEGER : 5\n",
      "THE INTEGER YOU HAVE ENTERED IS  5\n"
     ]
    }
   ],
   "source": [
    "num=int(input(\"ENTER AN INTEGER : \"))\n",
    "print(\"THE INTEGER YOU HAVE ENTERED IS \",num)"
   ]
  },
  {
   "cell_type": "markdown",
   "metadata": {},
   "source": [
    "# ADD TWO NUMBERS"
   ]
  },
  {
   "cell_type": "code",
   "execution_count": 53,
   "metadata": {},
   "outputs": [
    {
     "name": "stdout",
     "output_type": "stream",
     "text": [
      "ENTER NUM1= 6\n",
      "ENTER NUM2= 4\n",
      "THE RESULT IS :  10\n"
     ]
    }
   ],
   "source": [
    "result=0\n",
    "def addition():\n",
    "    num1=int(input(\"ENTER NUM1= \"))\n",
    "    num2=int(input(\"ENTER NUM2= \"))\n",
    "    result=num1 + num2\n",
    "    print(\"THE RESULT IS : \",result)\n",
    "    \n",
    "addition()    "
   ]
  },
  {
   "cell_type": "markdown",
   "metadata": {},
   "source": [
    "# Multiply two numbers"
   ]
  },
  {
   "cell_type": "code",
   "execution_count": 11,
   "metadata": {},
   "outputs": [
    {
     "name": "stdout",
     "output_type": "stream",
     "text": [
      "ENTER NUM1= 5.6\n",
      "ENTER NUM2= 2.3\n",
      "THE RESULT IS :  12.879999999999999\n"
     ]
    }
   ],
   "source": [
    "result=0\n",
    "def multiplication():\n",
    "    num1=float(input(\"ENTER NUM1= \"))\n",
    "    num2=float(input(\"ENTER NUM2= \"))\n",
    "    result=num1 * num2\n",
    "    print(\"THE RESULT IS : \",result)\n",
    "    \n",
    "multiplication()    "
   ]
  },
  {
   "cell_type": "markdown",
   "metadata": {},
   "source": [
    "# ASCII KEY VALUE OF A CHARACTER"
   ]
  },
  {
   "cell_type": "code",
   "execution_count": 1,
   "metadata": {},
   "outputs": [
    {
     "name": "stdout",
     "output_type": "stream",
     "text": [
      "ENTER THE CHARACTER : A\n",
      "THE ASCII VALUE OF A is 65\n"
     ]
    }
   ],
   "source": [
    "character= input(\"ENTER THE CHARACTER : \")\n",
    "result=ord(character)\n",
    "print(\"THE ASCII VALUE OF \"+character+\" is\",result)"
   ]
  },
  {
   "cell_type": "code",
   "execution_count": 1,
   "metadata": {},
   "outputs": [
    {
     "name": "stdout",
     "output_type": "stream",
     "text": [
      "a\n"
     ]
    }
   ],
   "source": [
    "\n",
    "l=chr(97)\n",
    "print(l)"
   ]
  },
  {
   "cell_type": "code",
   "execution_count": 54,
   "metadata": {},
   "outputs": [
    {
     "name": "stdout",
     "output_type": "stream",
     "text": [
      "ENTER THE STRING: BHAVNA\n",
      "66\n",
      "72\n",
      "65\n",
      "86\n",
      "78\n",
      "65\n"
     ]
    }
   ],
   "source": [
    "string=input(\"ENTER THE STRING: \")\n",
    "for i in string:\n",
    "    print(ord(i))"
   ]
  },
  {
   "cell_type": "code",
   "execution_count": 52,
   "metadata": {},
   "outputs": [
    {
     "name": "stdout",
     "output_type": "stream",
     "text": [
      "ENTER THE DIVISOR: 9\n",
      "ENTER THE DIVIDEND: 6\n",
      "THE QUOTIENT OF  9  DIVIDED BY  6  IS :  1\n",
      "THE REMAINDER OF  9  DIVIDED BY  6  IS :  3\n"
     ]
    }
   ],
   "source": [
    "def quotient_remainder():\n",
    "    divisor=int(input(\"ENTER THE DIVISOR: \"))\n",
    "    dividend=int(input(\"ENTER THE DIVIDEND: \"))\n",
    "    remainder=divisor % dividend\n",
    "    quotient=divisor // dividend\n",
    "    print(\"THE QUOTIENT OF \",divisor,\" DIVIDED BY \",dividend,\" IS : \",quotient)\n",
    "    print(\"THE REMAINDER OF \",divisor,\" DIVIDED BY \",dividend,\" IS : \",remainder)\n",
    "quotient_remainder()    "
   ]
  },
  {
   "cell_type": "code",
   "execution_count": 16,
   "metadata": {},
   "outputs": [
    {
     "name": "stdout",
     "output_type": "stream",
     "text": [
      "Enter the 1st number:5\n",
      "Enter the 2nd number:10\n",
      "The value of num1 after swapping is 10\n",
      "The value of num2 after swapping is 5\n"
     ]
    }
   ],
   "source": [
    "def swapp():\n",
    "    num1=int(input(\"Enter the 1st number:\"))\n",
    "    num2=int(input(\"Enter the 2nd number:\"))\n",
    "    temp = num1\n",
    "    num1 = num2\n",
    "    num2 = temp\n",
    "    print(\"The value of num1 after swapping is\",num1)\n",
    "    print(\"The value of num2 after swapping is\",num2)\n",
    "swapp()  "
   ]
  },
  {
   "cell_type": "code",
   "execution_count": 14,
   "metadata": {},
   "outputs": [
    {
     "name": "stdout",
     "output_type": "stream",
     "text": [
      "Enter the 1st number:5\n",
      "Enter the 2nd number:10\n",
      "Enter the 3rd number:15\n",
      "The value of num1 after swapping is 10\n",
      "The value of num2 after swapping is 15\n",
      "The value of num3 after swapping is 5\n"
     ]
    }
   ],
   "source": [
    "def swapp():\n",
    "    num1=int(input(\"Enter the 1st number:\"))\n",
    "    num2=int(input(\"Enter the 2nd number:\"))\n",
    "    num3=int(input(\"Enter the 3rd number:\"))\n",
    "    temp = num1\n",
    "    num1 = num2\n",
    "    num2 = num3\n",
    "    num3 = temp\n",
    "    print(\"The value of num1 after swapping is\",num1)\n",
    "    print(\"The value of num2 after swapping is\",num2)\n",
    "    print(\"The value of num3 after swapping is\",num3)\n",
    "swapp()    "
   ]
  },
  {
   "cell_type": "markdown",
   "metadata": {},
   "source": [
    "# swap of three numbers without using temporary variable "
   ]
  },
  {
   "cell_type": "code",
   "execution_count": 2,
   "metadata": {},
   "outputs": [
    {
     "name": "stdout",
     "output_type": "stream",
     "text": [
      "Enter the 1st number:5\n",
      "Enter the 2nd number:10\n",
      "Enter the 3rd number:15\n",
      "The value of num1 after swapping is 15\n",
      "The value of num2 after swapping is 5\n",
      "The value of num3 after swapping is 10\n"
     ]
    }
   ],
   "source": [
    "def swap():\n",
    "    num1=int(input(\"Enter the 1st number:\"))\n",
    "    num2=int(input(\"Enter the 2nd number:\"))\n",
    "    num3=int(input(\"Enter the 3rd number:\"))\n",
    "    num1=num1+num2+num3\n",
    "    num2=num1-(num2+num3)\n",
    "    num3=num1-(num2+num3)\n",
    "    num1=num1-(num2+num3)\n",
    "\n",
    "    print(\"The value of num1 after swapping is\",abs(num1))\n",
    "    print(\"The value of num2 after swapping is\",abs(num2))\n",
    "    print(\"The value of num3 after swapping is\",abs(num3))\n",
    "swap()    "
   ]
  },
  {
   "cell_type": "markdown",
   "metadata": {},
   "source": [
    "## CHECK ALL THE VALUES IN THE LIST ARE PRIME"
   ]
  },
  {
   "cell_type": "code",
   "execution_count": 1,
   "metadata": {},
   "outputs": [
    {
     "data": {
      "text/plain": [
       "False"
      ]
     },
     "execution_count": 1,
     "metadata": {},
     "output_type": "execute_result"
    }
   ],
   "source": [
    "from math import sqrt\n",
    "\n",
    "def primes(lista):\n",
    "    return all(n == 2 or (n % 2 and all(n % x for x in range(3, int(sqrt(n)+1), 2))) for n in lista)\n",
    "\n",
    "primes([1,13,25])"
   ]
  },
  {
   "cell_type": "markdown",
   "metadata": {},
   "source": [
    "# even or odd"
   ]
  },
  {
   "cell_type": "code",
   "execution_count": 7,
   "metadata": {},
   "outputs": [
    {
     "name": "stdout",
     "output_type": "stream",
     "text": [
      "ENTER A NUMBER: 25\n",
      "The number is odd\n"
     ]
    }
   ],
   "source": [
    "def check():\n",
    "    num=int(input(\"ENTER A NUMBER: \"))\n",
    "    if(num%2==0):\n",
    "        print(\"The number is even\")\n",
    "    else:\n",
    "        print(\"The number is odd\")\n",
    "check()        "
   ]
  },
  {
   "cell_type": "markdown",
   "metadata": {},
   "source": [
    "# check for vowels or consonants"
   ]
  },
  {
   "cell_type": "code",
   "execution_count": 9,
   "metadata": {},
   "outputs": [
    {
     "name": "stdout",
     "output_type": "stream",
     "text": [
      "Enter a character: k\n",
      "consonant\n"
     ]
    }
   ],
   "source": [
    "def check():\n",
    "    enter=input(\"Enter a character: \")\n",
    "    if (enter=='a' or enter=='e' or enter=='i' or enter=='o' or enter=='u'):\n",
    "        print(\"vowel\")\n",
    "    else:\n",
    "        print(\"consonant\")\n",
    "check()        "
   ]
  },
  {
   "cell_type": "markdown",
   "metadata": {},
   "source": [
    "# count the vowels and consonants in a string"
   ]
  },
  {
   "cell_type": "code",
   "execution_count": 20,
   "metadata": {},
   "outputs": [
    {
     "name": "stdout",
     "output_type": "stream",
     "text": [
      "ENTER THE STRING: bhavna is good girl\n",
      "THE TOTAL NO OF VOWELS ARE  6\n",
      "THE TOTAL NO OF CONSONANTS ARE 13\n"
     ]
    }
   ],
   "source": [
    "def check():\n",
    "    vowel=0\n",
    "    consonant=0\n",
    "    string=input(\"ENTER THE STRING: \")\n",
    "    for i in string:\n",
    "        if (i=='a' or i=='e' or i=='i' or i=='o' or i=='u'):\n",
    "            vowel=vowel+1\n",
    "        else:\n",
    "            consonant=consonant+1\n",
    "    print(\"THE TOTAL NO OF VOWELS ARE \",vowel)\n",
    "    print(\"THE TOTAL NO OF CONSONANTS ARE\",consonant)\n",
    "check()"
   ]
  },
  {
   "cell_type": "code",
   "execution_count": 22,
   "metadata": {},
   "outputs": [
    {
     "name": "stdout",
     "output_type": "stream",
     "text": [
      "Enter the 1st number:54\n",
      "Enter the 2nd number:44\n",
      "Enter the 3rd number:21\n",
      "NUM 1 IS GREATEST:  54\n"
     ]
    }
   ],
   "source": [
    "def largest():\n",
    "    num1=int(input(\"Enter the 1st number:\"))\n",
    "    num2=int(input(\"Enter the 2nd number:\"))\n",
    "    num3=int(input(\"Enter the 3rd number:\"))\n",
    "    if(num1>num2 and num1>num3):\n",
    "        print(\"NUM 1 IS GREATEST: \",num1)\n",
    "    elif(num1<num2 and num2>num3):\n",
    "        print(\"NUM 2 IS GREATEST: \",num2)\n",
    "    else:\n",
    "        print(\"NUM 3 IS GREATEST: \",num3)\n",
    "largest()    "
   ]
  },
  {
   "cell_type": "code",
   "execution_count": 23,
   "metadata": {},
   "outputs": [
    {
     "name": "stdout",
     "output_type": "stream",
     "text": [
      "Enter the 1st number:5\n",
      "Enter the 2nd number:10\n",
      "Enter the 3rd number:15\n",
      "NUM 1 IS SMALLEST:  5\n"
     ]
    }
   ],
   "source": [
    "def smallest():\n",
    "    num1=int(input(\"Enter the 1st number:\"))\n",
    "    num2=int(input(\"Enter the 2nd number:\"))\n",
    "    num3=int(input(\"Enter the 3rd number:\"))\n",
    "    if(num1<num2 and num1<num3):\n",
    "        print(\"NUM 1 IS SMALLEST: \",num1)\n",
    "    elif(num1>num2 and num2<num3):\n",
    "        print(\"NUM 2 IS SMALLEST: \",num2)\n",
    "    else:\n",
    "        print(\"NUM 3 IS SMALLEST: \",num3)\n",
    "smallest()  "
   ]
  },
  {
   "cell_type": "code",
   "execution_count": 26,
   "metadata": {},
   "outputs": [
    {
     "name": "stdout",
     "output_type": "stream",
     "text": [
      "Enter the a :1\n",
      "Enter the b :2\n",
      "Enter the c :1\n",
      "the roots are  -1.0 -1.0\n"
     ]
    }
   ],
   "source": [
    "import math\n",
    "def quadratic_equation():\n",
    "    a=int(input(\"Enter the a :\"))\n",
    "    b=int(input(\"Enter the b :\"))\n",
    "    c=int(input(\"Enter the c :\"))\n",
    "    x1=(-b+math.sqrt(b**2-(4*a*c)))/(2*a)\n",
    "    x2=(-b-math.sqrt(b**2-(4*a*c)))/(2*a)\n",
    "    print(\"the roots are \",x1,x2)\n",
    "quadratic_equation()    "
   ]
  },
  {
   "cell_type": "code",
   "execution_count": 1,
   "metadata": {},
   "outputs": [
    {
     "name": "stdout",
     "output_type": "stream",
     "text": [
      "ENTER THE YEAR : 2016\n",
      "The Year  2016   is a Leap year\n"
     ]
    }
   ],
   "source": [
    "def leap_year():\n",
    "    year=int(input(\"ENTER THE YEAR : \"))\n",
    "    if(year%4==0):\n",
    "        if(year%100==0):\n",
    "            if(year%400==0):\n",
    "                print(\"The Year \",year,\" is a Leap year\")\n",
    "            else:\n",
    "                print(\"The Year \",year,\"  is not a Leap year\")\n",
    "        else:\n",
    "            print(\"The Year \",year,\"  is a Leap year\")\n",
    "    else:\n",
    "        print(\"The Year \",year,\"  is not a Leap year\")\n",
    "leap_year()                "
   ]
  },
  {
   "cell_type": "code",
   "execution_count": 34,
   "metadata": {},
   "outputs": [
    {
     "name": "stdout",
     "output_type": "stream",
     "text": [
      "ENTER A NUMBER: -5\n",
      " -5  is a negative number\n"
     ]
    }
   ],
   "source": [
    "def check():\n",
    "    num=int(input(\"ENTER A NUMBER: \"))\n",
    "    if (num>0):\n",
    "        print(\"\",num,\" is a positive number\")\n",
    "    elif(num<0):\n",
    "        print(\"\",num,\" is a negative number\")\n",
    "    else:\n",
    "        print(\"\",num,\" is 0\")\n",
    "check()        "
   ]
  },
  {
   "cell_type": "markdown",
   "metadata": {},
   "source": [
    "# sum of natural numbers"
   ]
  },
  {
   "cell_type": "code",
   "execution_count": 3,
   "metadata": {},
   "outputs": [
    {
     "name": "stdout",
     "output_type": "stream",
     "text": [
      "ENTER THE NUMBER: 4\n",
      "10\n"
     ]
    }
   ],
   "source": [
    "def summ():\n",
    "    result=0\n",
    "    n=int(input(\"ENTER THE NUMBER: \"))\n",
    "    for i in range(1,n+1):\n",
    "        result=result+i\n",
    "        #i=i+1\n",
    "    print(result)    \n",
    "summ()    "
   ]
  },
  {
   "cell_type": "markdown",
   "metadata": {},
   "source": [
    "# sum of natural numbers using recursion "
   ]
  },
  {
   "cell_type": "code",
   "execution_count": 46,
   "metadata": {},
   "outputs": [
    {
     "data": {
      "text/plain": [
       "10"
      ]
     },
     "execution_count": 46,
     "metadata": {},
     "output_type": "execute_result"
    }
   ],
   "source": [
    "def summ_recursion(n):\n",
    "    result=0\n",
    "    if n==0 or n==1:\n",
    "        return n\n",
    "    else:\n",
    "        return n + summ_recursion(n-1) \n",
    "summ_recursion(4)        "
   ]
  },
  {
   "cell_type": "markdown",
   "metadata": {},
   "source": [
    "# factorial of a number"
   ]
  },
  {
   "cell_type": "code",
   "execution_count": 5,
   "metadata": {},
   "outputs": [
    {
     "name": "stdout",
     "output_type": "stream",
     "text": [
      "ENTER THE NUMBER: 4\n",
      "24\n"
     ]
    }
   ],
   "source": [
    "def factorial():\n",
    "    result=1\n",
    "    n=int(input(\"ENTER THE NUMBER: \"))\n",
    "    for i in range (1,n+1):\n",
    "        result=result * i\n",
    "        #i=i+1\n",
    "    print(result)\n",
    "factorial()    "
   ]
  },
  {
   "cell_type": "markdown",
   "metadata": {},
   "source": [
    "# factorial using recursion"
   ]
  },
  {
   "cell_type": "code",
   "execution_count": 1,
   "metadata": {},
   "outputs": [
    {
     "data": {
      "text/plain": [
       "3628800"
      ]
     },
     "execution_count": 1,
     "metadata": {},
     "output_type": "execute_result"
    }
   ],
   "source": [
    "def factorial_recursion(n):\n",
    "    if n==1 :\n",
    "        return n\n",
    "    else:\n",
    "        return n * factorial_recursion(n-1)\n",
    "factorial_recursion(10)    "
   ]
  },
  {
   "cell_type": "markdown",
   "metadata": {},
   "source": [
    "# multiplication tables"
   ]
  },
  {
   "cell_type": "code",
   "execution_count": 68,
   "metadata": {},
   "outputs": [
    {
     "name": "stdout",
     "output_type": "stream",
     "text": [
      "Enter the number: 5\n",
      "5  x  1 = 5\n",
      "5  x  2 = 10\n",
      "5  x  3 = 15\n",
      "5  x  4 = 20\n",
      "5  x  5 = 25\n",
      "5  x  6 = 30\n",
      "5  x  7 = 35\n",
      "5  x  8 = 40\n",
      "5  x  9 = 45\n",
      "5  x  10 = 50\n"
     ]
    }
   ],
   "source": [
    "def tables():\n",
    "    n=int(input(\"Enter the number: \"))\n",
    "    for i in range(1,11):\n",
    "        print(n,\" x \",i,\"=\",n*i)\n",
    "        i=i+1\n",
    "tables()        "
   ]
  },
  {
   "cell_type": "code",
   "execution_count": 1,
   "metadata": {},
   "outputs": [
    {
     "name": "stdout",
     "output_type": "stream",
     "text": [
      "Enter how many terms: 5\n",
      "0\n",
      "1\n",
      "1\n",
      "2\n",
      "3\n",
      "5\n"
     ]
    }
   ],
   "source": [
    "def fibbonacci():\n",
    "    n=int(input(\"Enter how many terms: \"))\n",
    "    n1=0\n",
    "    n2=1\n",
    "    count=0\n",
    "    while count<=n:\n",
    "        print(n1)\n",
    "        nth=n1+n2\n",
    "        n1=n2\n",
    "        n2=nth\n",
    "        count=count+1\n",
    "fibbonacci()        "
   ]
  },
  {
   "cell_type": "code",
   "execution_count": 6,
   "metadata": {},
   "outputs": [
    {
     "data": {
      "text/plain": [
       "2"
      ]
     },
     "execution_count": 6,
     "metadata": {},
     "output_type": "execute_result"
    }
   ],
   "source": [
    "def fibbonacci_recursion(n):\n",
    "    if n==0 or n==1:\n",
    "        return n\n",
    "    else:\n",
    "        return fibbonacci_recursion(n-1)+fibbonacci_recursion(n-2)\n",
    "fibbonacci_recursion(3)    \n"
   ]
  },
  {
   "cell_type": "code",
   "execution_count": 1,
   "metadata": {},
   "outputs": [
    {
     "name": "stdout",
     "output_type": "stream",
     "text": [
      "enter num1: 98\n",
      "enter num2: 125\n",
      "The gcd of  98  and  125  is  1\n"
     ]
    }
   ],
   "source": [
    "def gcd():\n",
    "    num1=int(input(\"enter num1: \"))\n",
    "    num2=int(input(\"enter num2: \"))\n",
    "    if num1>num2:\n",
    "        small=num2\n",
    "    else:\n",
    "        small=num1\n",
    "    for i in range (1,small+1):\n",
    "        if(num1%i==0) and (num2%i==0):\n",
    "            result=i\n",
    "    print(\"The gcd of \",num1,\" and \",num2,\" is \",result)\n",
    "gcd()    "
   ]
  },
  {
   "cell_type": "code",
   "execution_count": 1,
   "metadata": {},
   "outputs": [
    {
     "data": {
      "text/plain": [
       "2"
      ]
     },
     "execution_count": 1,
     "metadata": {},
     "output_type": "execute_result"
    }
   ],
   "source": [
    "def gcd_recursion(num1,num2):\n",
    "    if num2==0:\n",
    "        return num1\n",
    "    else:\n",
    "        return gcd_recursion(num2,num1%num2)\n",
    "gcd_recursion(34818,45632)           "
   ]
  },
  {
   "cell_type": "code",
   "execution_count": 6,
   "metadata": {},
   "outputs": [
    {
     "name": "stdout",
     "output_type": "stream",
     "text": [
      "ENTER THE VALUE OF N :4\n",
      "The sum of the series is 20\n"
     ]
    }
   ],
   "source": [
    "#s=1+(1+2)+(1+2+3)+(1+2+3+4)+...+(1+2+3+4+...+n)\n",
    "def series():\n",
    "    summ=0\n",
    "    n=int(input(\"ENTER THE VALUE OF N :\"))\n",
    "    for i in range(1,n+1):\n",
    "        temp=0\n",
    "        for j in range(1,i+1):\n",
    "            temp=temp+j\n",
    "        summ=summ+temp    \n",
    "    print(\"The sum of the series is\",summ)\n",
    "series()    "
   ]
  },
  {
   "cell_type": "code",
   "execution_count": 7,
   "metadata": {},
   "outputs": [
    {
     "name": "stdout",
     "output_type": "stream",
     "text": [
      "ENTER THE VALUE OF N: 10\n",
      "The sum of odd numbers is: 25\n"
     ]
    }
   ],
   "source": [
    "#sum of the odd integers between 1 to n\n",
    "def summ_odd():\n",
    "    n=int(input(\"ENTER THE VALUE OF N: \"))\n",
    "    sum=0\n",
    "    for i in range (1,n+1):\n",
    "        if(i%2!=0):\n",
    "            sum=sum+i\n",
    "    print(\"The sum of odd numbers is:\",sum)\n",
    "summ_odd()    "
   ]
  },
  {
   "cell_type": "code",
   "execution_count": 13,
   "metadata": {
    "collapsed": true
   },
   "outputs": [
    {
     "name": "stdout",
     "output_type": "stream",
     "text": [
      "7\n",
      "14\n",
      "21\n",
      "28\n",
      "35\n",
      "42\n",
      "49\n",
      "56\n",
      "63\n",
      "70\n",
      "77\n",
      "84\n",
      "91\n",
      "98\n",
      "105\n",
      "112\n",
      "119\n",
      "126\n",
      "133\n",
      "140\n",
      "147\n",
      "154\n",
      "161\n",
      "168\n",
      "175\n",
      "182\n",
      "189\n",
      "196\n",
      "203\n",
      "210\n",
      "217\n",
      "224\n",
      "231\n",
      "238\n",
      "245\n",
      "252\n",
      "259\n",
      "266\n",
      "273\n",
      "280\n",
      "287\n",
      "294\n",
      "301\n",
      "308\n",
      "315\n",
      "322\n",
      "329\n",
      "336\n",
      "343\n",
      "350\n"
     ]
    }
   ],
   "source": [
    "#print the first 50 integers divided by 7\n",
    "def series():\n",
    "    n=7\n",
    "    for i in range(1,51):\n",
    "        result=n*i\n",
    "        print(result)\n",
    "        #print(len(result))\n",
    "series()        "
   ]
  },
  {
   "cell_type": "code",
   "execution_count": 15,
   "metadata": {
    "collapsed": true
   },
   "outputs": [
    {
     "name": "stdout",
     "output_type": "stream",
     "text": [
      "Enter the Value of n: 20\n",
      "1\n",
      "2\n",
      "3\n",
      "4\n",
      "5\n",
      "6\n",
      "8\n",
      "9\n",
      "10\n",
      "11\n",
      "12\n",
      "13\n",
      "15\n",
      "16\n",
      "17\n",
      "18\n",
      "19\n",
      "20\n"
     ]
    }
   ],
   "source": [
    "#print from 1 to n omiting those which are divisible by 7\n",
    "def summ():\n",
    "    n=int(input(\"Enter the Value of n: \"))\n",
    "    for i in range (1,n+1):\n",
    "        if(i%7!=0):\n",
    "            print(i)\n",
    "summ()            "
   ]
  },
  {
   "cell_type": "code",
   "execution_count": 23,
   "metadata": {},
   "outputs": [
    {
     "name": "stdout",
     "output_type": "stream",
     "text": [
      "Enter the Value of n: 123\n",
      "The result is  6.666666666666668\n"
     ]
    }
   ],
   "source": [
    "#123=1+2+3\n",
    "def siri():\n",
    "    n=int(input(\"Enter the Value of n: \"))\n",
    "    q=n\n",
    "    result=0\n",
    "    while(q>0):\n",
    "        remainder=q % 10\n",
    "        result=result + remainder\n",
    "        q=q / 10\n",
    "    print(\"The result is \",result)\n",
    "siri()    "
   ]
  },
  {
   "cell_type": "code",
   "execution_count": null,
   "metadata": {},
   "outputs": [
    {
     "name": "stdout",
     "output_type": "stream",
     "text": [
      "Enter the Value of n: 123\n"
     ]
    }
   ],
   "source": [
    "#reverse a number\n",
    "def revers():\n",
    "    n=int(input(\"Enter the Value of n: \"))\n",
    "    result=0\n",
    "    while(n>0):\n",
    "        #result=0\n",
    "        q=n\n",
    "        remainder=q%10\n",
    "        result=result*10+remainder\n",
    "        q=q//10\n",
    "    print(\"The Result is: \",result)\n",
    "revers()        "
   ]
  },
  {
   "cell_type": "code",
   "execution_count": 1,
   "metadata": {},
   "outputs": [
    {
     "name": "stdout",
     "output_type": "stream",
     "text": [
      "Enter number: 123\n",
      "Reverse of the number: 321\n"
     ]
    }
   ],
   "source": [
    "n=int(input(\"Enter number: \"))\n",
    "rev=0\n",
    "while(n>0):\n",
    "    dig=n%10\n",
    "    rev=rev*10+dig\n",
    "    n=n//10\n",
    "print(\"Reverse of the number:\",rev)"
   ]
  },
  {
   "cell_type": "code",
   "execution_count": 1,
   "metadata": {},
   "outputs": [
    {
     "name": "stdout",
     "output_type": "stream",
     "text": [
      "Enter the Value of n: 564845121\n",
      "The Result is:  9\n"
     ]
    }
   ],
   "source": [
    "#count the no of digits in a number/integer\n",
    "def cou():\n",
    "    n=int(input(\"Enter the Value of n: \"))\n",
    "    count=0\n",
    "    while(n>0):\n",
    "        count=count+1\n",
    "        n=n//10\n",
    "    print(\"The Result is: \",count)\n",
    "cou()    "
   ]
  },
  {
   "cell_type": "code",
   "execution_count": 2,
   "metadata": {},
   "outputs": [
    {
     "name": "stdout",
     "output_type": "stream",
     "text": [
      "Enter the Value of n: 123\n",
      "0.0\n"
     ]
    }
   ],
   "source": [
    "def explanation():\n",
    "    n=int(input(\"Enter the Value of n: \"))\n",
    "    while(n>0):\n",
    "        result=0\n",
    "        remainder=n%10\n",
    "        result=result*10+remainder\n",
    "        n=n/10\n",
    "    while(result>0):\n",
    "        remainder1=result%10\n",
    "        if (result==0):\n",
    "            return result\n",
    "        elif(result==1):\n",
    "            return result\n",
    "        elif(result==2):\n",
    "            return result\n",
    "        elif(result==3):\n",
    "            return result\n",
    "        elif(result==4):\n",
    "            return result\n",
    "        elif(result==5):\n",
    "            return result\n",
    "        elif(result==6):\n",
    "            return result\n",
    "        elif(result==7):\n",
    "            return result\n",
    "        elif(result==8):\n",
    "            return result\n",
    "        elif(result==9):\n",
    "            return result    \n",
    "        result=result/10\n",
    "    print(result)        \n",
    "explanation()    "
   ]
  },
  {
   "cell_type": "code",
   "execution_count": 9,
   "metadata": {},
   "outputs": [
    {
     "name": "stdout",
     "output_type": "stream",
     "text": [
      "Enter any number: 146\n",
      "146 is not a prime number\n"
     ]
    }
   ],
   "source": [
    "# taking input from user\n",
    "number = int(input(\"Enter any number: \"))\n",
    "\n",
    "# prime number is always greater than 1\n",
    "if number > 1:\n",
    "    for i in range(2, number):\n",
    "        if (number % i) == 0:\n",
    "            print(number, \"is not a prime number\")\n",
    "            break\n",
    "    else:\n",
    "        print(number, \"is a prime number\")\n",
    "\n",
    "# if the entered number is less than or equal to 1\n",
    "# then it is not prime number\n",
    "else:\n",
    "    print(number, \"is not a prime number\")"
   ]
  },
  {
   "cell_type": "code",
   "execution_count": null,
   "metadata": {},
   "outputs": [
    {
     "name": "stdout",
     "output_type": "stream",
     "text": [
      "Enter a choice: 1.Binary to Decimal 2.Decimal to Binary1\n",
      "15\n"
     ]
    }
   ],
   "source": [
    "def decimal_to_binary(n):\n",
    "    if(n>1):\n",
    "        decimal_to_binary(n//2)\n",
    "    print(n%2,end='')    \n",
    "def binary_to_decimal(n):\n",
    "    binary= n\n",
    "\n",
    "    decimal, i= 0, 0\n",
    "\n",
    "    while(binary != 0):\n",
    "\n",
    "        dec = binary % 10\n",
    "\n",
    "        decimal = decimal + dec * pow(2, i)\n",
    "\n",
    "        binary = binary//10\n",
    "\n",
    "        i += 1\n",
    "\n",
    "    print(decimal) \n",
    "while(1):\n",
    "    choice=(int(input(\"Enter a choice: 1.Binary to Decimal 2.Decimal to Binary\")))\n",
    "    if choice==1:\n",
    "        binary_to_decimal(1111)\n",
    "    else:\n",
    "        decimal_to_binary(15)\n",
    "        \n",
    "        \n",
    "    "
   ]
  },
  {
   "cell_type": "code",
   "execution_count": 8,
   "metadata": {},
   "outputs": [
    {
     "name": "stdout",
     "output_type": "stream",
     "text": [
      "10 2\n"
     ]
    }
   ],
   "source": [
    "sample_range= input().split()  # separate by whitespace"
   ]
  },
  {
   "cell_type": "code",
   "execution_count": 6,
   "metadata": {},
   "outputs": [
    {
     "name": "stdout",
     "output_type": "stream",
     "text": [
      "10 2\n"
     ]
    }
   ],
   "source": [
    "list_of_inputs = input().split()  # separate by whitespace"
   ]
  },
  {
   "cell_type": "code",
   "execution_count": 5,
   "metadata": {},
   "outputs": [
    {
     "name": "stdout",
     "output_type": "stream",
     "text": [
      "Input1:1\n",
      "Input2:12\n",
      "Output: 0\n"
     ]
    }
   ],
   "source": [
    "def binomial(n,m):\n",
    "    res=1\n",
    "    if m>n-m:\n",
    "        m=n-m\n",
    "    for i in range(0,m):\n",
    "        res*=(n-i)\n",
    "        res/=(i+1)\n",
    "    return res\n",
    "def calculate_ways(m,n):\n",
    "    if m<n:\n",
    "        return 0\n",
    "    ways=binomial(n+m-1,n-1)\n",
    "    return int(ways)\n",
    "if __name__ == '__main__':\n",
    "    m=int(input(\"Input1:\"))\n",
    "    n=int(input(\"Input2:\"))\n",
    "    result=calculate_ways(m,n)\n",
    "    print(\"Output:\",result)"
   ]
  },
  {
   "cell_type": "code",
   "execution_count": 1,
   "metadata": {},
   "outputs": [
    {
     "name": "stdout",
     "output_type": "stream",
     "text": [
      "[2, 4, 10, 20, 5]\n"
     ]
    }
   ],
   "source": [
    "# Python code to remove duplicate elements \n",
    "def Remove(duplicate): \n",
    "\tfinal_list = [] \n",
    "\tfor num in duplicate: \n",
    "\t\tif num not in final_list: \n",
    "\t\t\tfinal_list.append(num) \n",
    "\treturn final_list \n",
    "\t\n",
    "# Driver Code \n",
    "duplicate = [2, 4, 10, 20, 5, 2, 20, 4] \n",
    "print(Remove(duplicate)) \n"
   ]
  },
  {
   "cell_type": "code",
   "execution_count": 2,
   "metadata": {},
   "outputs": [
    {
     "name": "stdout",
     "output_type": "stream",
     "text": [
      "False\n"
     ]
    }
   ],
   "source": [
    "# Python program to check if all values \n",
    "# in the list are less than given value \n",
    "\n",
    "# Function to check the value \n",
    "def CheckForLess(list1, val): \n",
    "\treturn(all(x < val for x in list1)) \n",
    "\t\n",
    "# Driver code \n",
    "list1 = [11, 22, 33, 44, 67] \n",
    "val = 65\n",
    "r=CheckForLess(list1, val)\n",
    "print(r)"
   ]
  },
  {
   "cell_type": "code",
   "execution_count": 3,
   "metadata": {},
   "outputs": [
    {
     "name": "stdout",
     "output_type": "stream",
     "text": [
      "x = 98 , y = 125\n"
     ]
    }
   ],
   "source": [
    "# Python3 program to reduce a fraction x/y \n",
    "# to its lowest form \n",
    "from math import gcd \n",
    "\n",
    "# Function to reduce a fraction \n",
    "# to its lowest form \n",
    "def reduceFraction(x, y) : \n",
    "\t\n",
    "\td = gcd(x, y); \n",
    "\n",
    "\tx = x // d; \n",
    "\ty = y // d; \n",
    "\n",
    "\tprint(\"x =\", x, \", y =\", y); \n",
    "\n",
    "# Driver Code \n",
    "if __name__ == \"__main__\" : \n",
    "\n",
    "\tx = 784; \n",
    "\ty = 1000; \n",
    "\n",
    "\treduceFraction(x, y); \n",
    "\n",
    "# This code is contributed by Ryuga \n"
   ]
  },
  {
   "cell_type": "code",
   "execution_count": null,
   "metadata": {},
   "outputs": [],
   "source": []
  },
  {
   "cell_type": "code",
   "execution_count": null,
   "metadata": {},
   "outputs": [],
   "source": []
  },
  {
   "cell_type": "code",
   "execution_count": 8,
   "metadata": {
    "collapsed": true
   },
   "outputs": [
    {
     "ename": "TypeError",
     "evalue": "unsupported operand type(s) for &: 'float' and 'int'",
     "output_type": "error",
     "traceback": [
      "\u001b[1;31m---------------------------------------------------------------------------\u001b[0m",
      "\u001b[1;31mTypeError\u001b[0m                                 Traceback (most recent call last)",
      "\u001b[1;32m<ipython-input-8-c85df12c0c82>\u001b[0m in \u001b[0;36m<module>\u001b[1;34m\u001b[0m\n\u001b[1;32m----> 1\u001b[1;33m \u001b[0ma\u001b[0m \u001b[1;33m=\u001b[0m\u001b[1;36m2\u001b[0m\u001b[1;33m*\u001b[0m\u001b[1;36m3\u001b[0m\u001b[1;33m/\u001b[0m\u001b[1;36m2\u001b[0m\u001b[1;33m*\u001b[0m\u001b[1;36m5\u001b[0m\u001b[1;33m/\u001b[0m\u001b[1;36m2\u001b[0m\u001b[1;33m&\u001b[0m\u001b[1;36m1\u001b[0m\u001b[1;33m\u001b[0m\u001b[1;33m\u001b[0m\u001b[0m\n\u001b[0m",
      "\u001b[1;31mTypeError\u001b[0m: unsupported operand type(s) for &: 'float' and 'int'"
     ]
    }
   ],
   "source": [
    "a =2*3/2*5/2&1"
   ]
  },
  {
   "cell_type": "code",
   "execution_count": 4,
   "metadata": {},
   "outputs": [
    {
     "name": "stdout",
     "output_type": "stream",
     "text": [
      "2\n",
      "hacker\n",
      "[0, 2, 4]\n",
      "[1, 3, 5]\n",
      "rank\n",
      "[0, 2]\n",
      "[1, 3]\n"
     ]
    }
   ],
   "source": [
    "#DAY 6 :LET'S REVIEW:\n",
    "\n",
    "def solve(n,word):\n",
    "    even=[]\n",
    "    odd=[]\n",
    "    even_list=[]\n",
    "    odd_list=[]\n",
    "    for i in range(0,len(word)):\n",
    "\n",
    "        if i%2==0:\n",
    "            even.append(i)\n",
    "        else:\n",
    "            odd.append(i)\n",
    "\n",
    "    print(even)\n",
    "    print(odd)\n",
    "    for k in range(len(word)):\n",
    "        for i in even:\n",
    "            \n",
    "\n",
    "if __name__=='__main__':\n",
    "    n=int(input())\n",
    "    words=[]\n",
    "    for i in range(0,n):\n",
    "        word=str(input())\n",
    "        #words.append(word)\n",
    "        solve(n,word)"
   ]
  },
  {
   "cell_type": "code",
   "execution_count": 5,
   "metadata": {},
   "outputs": [
    {
     "name": "stdout",
     "output_type": "stream",
     "text": [
      "2\n",
      "hacker\n",
      "hce akr\n",
      "rank\n",
      "rn ak\n"
     ]
    }
   ],
   "source": [
    "for N in range(int(input())):\n",
    "    S = input()\n",
    "    print(S[::2], S[1::2])"
   ]
  },
  {
   "cell_type": "code",
   "execution_count": 8,
   "metadata": {},
   "outputs": [
    {
     "name": "stdout",
     "output_type": "stream",
     "text": [
      "[2, 4, 6, 8]\n"
     ]
    }
   ],
   "source": [
    "a=[1,2,3,4,5,6,7,8,9]\n",
    "b=[9,8,7,6,5,4,3,2,1]\n",
    "\n",
    "print(a[1::2])"
   ]
  },
  {
   "cell_type": "code",
   "execution_count": 10,
   "metadata": {},
   "outputs": [
    {
     "data": {
      "text/plain": [
       "'bhavna'"
      ]
     },
     "execution_count": 10,
     "metadata": {},
     "output_type": "execute_result"
    }
   ],
   "source": [
    "dict={'name':'bhavna','class':8,'roll':15}\n",
    "dict['name']"
   ]
  },
  {
   "cell_type": "code",
   "execution_count": 19,
   "metadata": {},
   "outputs": [
    {
     "name": "stdout",
     "output_type": "stream",
     "text": [
      "2\n",
      "sam 56478\n",
      "bhavna 899\n",
      "sam\n",
      "Not Found\n",
      "sasasas\n",
      "Not Found\n"
     ]
    }
   ],
   "source": [
    "if __name__ == '__main__':\n",
    "    n=int(input())\n",
    "    for i in range(n):\n",
    "        dictionary={}\n",
    "        d=input().split( )\n",
    "        dictionary[d[0]] = d[1]\n",
    "        # Displaying the dictionary\n",
    "        #for key, value in dictionary.items():\n",
    "            #print('Name: {}, PhoneNumber: {}'.format(key, value))\n",
    "        \n",
    "    for i in range(n):\n",
    "        query=input()\n",
    "        if query in dictionary.keys():\n",
    "            \n",
    "            print('{}={}'.format(key,dictionary[key]))\n",
    "        else:\n",
    "            \n",
    "            print(\"Not Found\")"
   ]
  },
  {
   "cell_type": "code",
   "execution_count": 20,
   "metadata": {
    "collapsed": true
   },
   "outputs": [
    {
     "name": "stdout",
     "output_type": "stream",
     "text": [
      "2\n",
      "sam 548451\n",
      "bahvna 54548\n",
      "sam\n",
      "sam=548451\n",
      "hae\n",
      "Not found\n",
      "jnjj\n",
      "Not found\n",
      "break\n",
      "Not found\n"
     ]
    }
   ],
   "source": [
    "n = int(input())\n",
    "d = {}\n",
    "for i in range(n):\n",
    "    x = input().split()\n",
    "    d[x[0]] = x[1]\n",
    "while True:\n",
    "    try:\n",
    "        name = input()\n",
    "        if name in d:\n",
    "            print(name, \"=\", d[name], sep=\"\")\n",
    "        else : print(\"Not found\")   \n",
    "    except: break"
   ]
  },
  {
   "cell_type": "code",
   "execution_count": 10,
   "metadata": {},
   "outputs": [
    {
     "name": "stdout",
     "output_type": "stream",
     "text": [
      "0\n",
      "1\n"
     ]
    }
   ],
   "source": [
    "k=2\n",
    "for i in range (k):\n",
    "    print(i)\n",
    "    i=i-1"
   ]
  },
  {
   "cell_type": "code",
   "execution_count": 4,
   "metadata": {},
   "outputs": [
    {
     "name": "stdout",
     "output_type": "stream",
     "text": [
      "2\n",
      "1\n"
     ]
    }
   ],
   "source": [
    "i=2\n",
    "while i:\n",
    "    print(i)\n",
    "    i=i-1"
   ]
  },
  {
   "cell_type": "code",
   "execution_count": 13,
   "metadata": {},
   "outputs": [
    {
     "data": {
      "text/plain": [
       "4"
      ]
     },
     "execution_count": 13,
     "metadata": {},
     "output_type": "execute_result"
    }
   ],
   "source": [
    "p=[5,2,1,3,4]\n",
    "#p[3]\n",
    "p[p[4]]"
   ]
  },
  {
   "cell_type": "markdown",
   "metadata": {},
   "source": [
    "## ITERTOOLS.CHAINS"
   ]
  },
  {
   "cell_type": "code",
   "execution_count": 2,
   "metadata": {},
   "outputs": [
    {
     "name": "stdout",
     "output_type": "stream",
     "text": [
      "['a', 'b', 'd', 'e', 'p', 'q']\n",
      "['a', 'b', 'd', 'e', 'r', 's']\n",
      "['a', 'b', 'f', 'h', 'p', 'q']\n",
      "['a', 'b', 'f', 'h', 'r', 's']\n",
      "['c', 'd', 'd', 'e', 'p', 'q']\n",
      "['c', 'd', 'd', 'e', 'r', 's']\n",
      "['c', 'd', 'f', 'h', 'p', 'q']\n",
      "['c', 'd', 'f', 'h', 'r', 's']\n"
     ]
    }
   ],
   "source": [
    "from itertools import chain\n",
    "a=[('a','b'),('c','d')]\n",
    "b=[('d','e'),('f','h')]\n",
    "c=[('p','q'),('r','s')]\n",
    "\n",
    "ans=[]\n",
    "for i in a:\n",
    "    for j in b:\n",
    "        for k in c:\n",
    "            ans.append(list(chain(i,j,k)))\n",
    "for p in ans:\n",
    "    print(p)"
   ]
  },
  {
   "cell_type": "code",
   "execution_count": 7,
   "metadata": {},
   "outputs": [
    {
     "name": "stdout",
     "output_type": "stream",
     "text": [
      "[1, 2, 3, 4]\n"
     ]
    }
   ],
   "source": [
    "n=1234\n",
    "#hh=list(n)\n",
    "#print(sum(hh))\n",
    "k=list(map(int,str(n)))\n",
    "print(k)"
   ]
  },
  {
   "cell_type": "markdown",
   "metadata": {},
   "source": [
    "### TCS XPLORE EXAM"
   ]
  },
  {
   "cell_type": "code",
   "execution_count": 1,
   "metadata": {},
   "outputs": [
    {
     "name": "stdout",
     "output_type": "stream",
     "text": [
      "('Three', 3)\n",
      "('Two', 2)\n",
      "('One', 1)\n",
      "Done.\n"
     ]
    }
   ],
   "source": [
    "d={'One':1,'Two':2,'Three':3}\n",
    "while d:\n",
    "    print(d.popitem())\n",
    "print('Done.')"
   ]
  },
  {
   "cell_type": "code",
   "execution_count": 2,
   "metadata": {},
   "outputs": [
    {
     "name": "stdout",
     "output_type": "stream",
     "text": [
      "[8, 13, 18, 23, 28]\n"
     ]
    }
   ],
   "source": [
    "mm=list(range(8,30,5))\n",
    "print(mm)"
   ]
  },
  {
   "cell_type": "code",
   "execution_count": 3,
   "metadata": {},
   "outputs": [
    {
     "ename": "ValueError",
     "evalue": "invalid literal for int() with base 10: 'A'",
     "output_type": "error",
     "traceback": [
      "\u001b[1;31m---------------------------------------------------------------------------\u001b[0m",
      "\u001b[1;31mValueError\u001b[0m                                Traceback (most recent call last)",
      "\u001b[1;32m<ipython-input-3-f2e3278a324f>\u001b[0m in \u001b[0;36m<module>\u001b[1;34m\u001b[0m\n\u001b[0;32m      4\u001b[0m \u001b[0mcounter\u001b[0m\u001b[1;33m=\u001b[0m\u001b[1;36m0\u001b[0m\u001b[1;33m\u001b[0m\u001b[1;33m\u001b[0m\u001b[0m\n\u001b[0;32m      5\u001b[0m \u001b[1;32mfor\u001b[0m \u001b[0mx\u001b[0m \u001b[1;32min\u001b[0m \u001b[0mT\u001b[0m\u001b[1;33m:\u001b[0m\u001b[1;33m\u001b[0m\u001b[1;33m\u001b[0m\u001b[0m\n\u001b[1;32m----> 6\u001b[1;33m     \u001b[0mL\u001b[0m\u001b[1;33m[\u001b[0m\u001b[0mcounter\u001b[0m\u001b[1;33m]\u001b[0m\u001b[1;33m+=\u001b[0m\u001b[0mint\u001b[0m\u001b[1;33m(\u001b[0m\u001b[0mx\u001b[0m\u001b[1;33m)\u001b[0m\u001b[1;33m\u001b[0m\u001b[1;33m\u001b[0m\u001b[0m\n\u001b[0m\u001b[0;32m      7\u001b[0m     \u001b[0mcounter\u001b[0m\u001b[1;33m+=\u001b[0m\u001b[1;36m1\u001b[0m\u001b[1;33m\u001b[0m\u001b[1;33m\u001b[0m\u001b[0m\n\u001b[0;32m      8\u001b[0m     \u001b[1;32mbreak\u001b[0m\u001b[1;33m\u001b[0m\u001b[1;33m\u001b[0m\u001b[0m\n",
      "\u001b[1;31mValueError\u001b[0m: invalid literal for int() with base 10: 'A'"
     ]
    }
   ],
   "source": [
    "L=[4,4,4,4]\n",
    "T=('A','B','C','D')\n",
    "L.sort()\n",
    "counter=0\n",
    "for x in T:\n",
    "    L[counter]+=int(x)\n",
    "    counter+=1\n",
    "    break\n",
    "print(L)"
   ]
  },
  {
   "cell_type": "code",
   "execution_count": 4,
   "metadata": {},
   "outputs": [
    {
     "name": "stdout",
     "output_type": "stream",
     "text": [
      "yes\n"
     ]
    }
   ],
   "source": [
    "d={'a':0,'b':1,'c':0}\n",
    "if d['a']>0:\n",
    "    print('yes')\n",
    "elif d['b']>0:\n",
    "    print('yes')\n",
    "elif d['c']>0:\n",
    "    print(yes)\n",
    "elif d['d']>0:\n",
    "    print('yes')\n",
    "else:\n",
    "    print('no')"
   ]
  },
  {
   "cell_type": "code",
   "execution_count": 5,
   "metadata": {},
   "outputs": [
    {
     "name": "stdout",
     "output_type": "stream",
     "text": [
      "T,A,T,A,"
     ]
    }
   ],
   "source": [
    "for l in 'TATA':\n",
    "    if l=='A':\n",
    "        pass\n",
    "    print(l,end=\",\")"
   ]
  },
  {
   "cell_type": "code",
   "execution_count": 6,
   "metadata": {},
   "outputs": [
    {
     "name": "stdout",
     "output_type": "stream",
     "text": [
      "3.0\n"
     ]
    }
   ],
   "source": [
    "p=9.5\n",
    "q=3\n",
    "print(p//q)"
   ]
  },
  {
   "cell_type": "code",
   "execution_count": 8,
   "metadata": {},
   "outputs": [
    {
     "name": "stdout",
     "output_type": "stream",
     "text": [
      "python\n"
     ]
    }
   ],
   "source": [
    "pl=['java','python','c','javascript']\n",
    "print(max(pl))"
   ]
  },
  {
   "cell_type": "code",
   "execution_count": 9,
   "metadata": {},
   "outputs": [
    {
     "name": "stdout",
     "output_type": "stream",
     "text": [
      "S\n"
     ]
    }
   ],
   "source": [
    "x=[10,[3.141,20,[30,'TCS',2.718]],'HYD']\n",
    "print(x[1][2][1][2])"
   ]
  },
  {
   "cell_type": "code",
   "execution_count": 10,
   "metadata": {},
   "outputs": [
    {
     "name": "stdout",
     "output_type": "stream",
     "text": [
      "134\n"
     ]
    }
   ],
   "source": [
    "x=123\n",
    "for i in range(10):\n",
    "    for j in range(2,10,1):\n",
    "        if x%2 == 0:\n",
    "            continue\n",
    "            x+=1\n",
    "    x+=1\n",
    "else:\n",
    "    x+=1\n",
    "print(x)"
   ]
  },
  {
   "cell_type": "code",
   "execution_count": 9,
   "metadata": {},
   "outputs": [
    {
     "ename": "SyntaxError",
     "evalue": "invalid syntax (<ipython-input-9-af14ab418556>, line 6)",
     "output_type": "error",
     "traceback": [
      "\u001b[1;36m  File \u001b[1;32m\"<ipython-input-9-af14ab418556>\"\u001b[1;36m, line \u001b[1;32m6\u001b[0m\n\u001b[1;33m    for c in (check1,check2,check3): if c[0]='XPLORE': c+=1 if c[1]='ILP': c+=10 print(c)\u001b[0m\n\u001b[1;37m                                     ^\u001b[0m\n\u001b[1;31mSyntaxError\u001b[0m\u001b[1;31m:\u001b[0m invalid syntax\n"
     ]
    }
   ],
   "source": [
    "check1=['TCS','ILP','XPLORE','Contribute']\n",
    "check2=check1\n",
    "check2[0]='ILP'\n",
    "check3[1]='TCS'\n",
    "c=0\n",
    "for c in (check1,check2,check3): if c[0]='XPLORE': c+=1 if c[1]='ILP': c+=10 print(c)        "
   ]
  },
  {
   "cell_type": "code",
   "execution_count": 4,
   "metadata": {},
   "outputs": [
    {
     "name": "stdout",
     "output_type": "stream",
     "text": [
      "[28, 14]\n"
     ]
    }
   ],
   "source": [
    "my=[7,14,21,28]\n",
    "print(my[::-2])"
   ]
  },
  {
   "cell_type": "code",
   "execution_count": 7,
   "metadata": {},
   "outputs": [
    {
     "name": "stdout",
     "output_type": "stream",
     "text": [
      "100\n"
     ]
    }
   ],
   "source": [
    "x=['a','b',{ 'one':1, 'two':{'x':100,'y':200,'z':300}, 'three':3}, 'c','d']\n",
    "print(x[2]['two']['x'])"
   ]
  },
  {
   "cell_type": "code",
   "execution_count": 8,
   "metadata": {},
   "outputs": [
    {
     "ename": "TypeError",
     "evalue": "unhashable type: 'slice'",
     "output_type": "error",
     "traceback": [
      "\u001b[1;31m---------------------------------------------------------------------------\u001b[0m",
      "\u001b[1;31mTypeError\u001b[0m                                 Traceback (most recent call last)",
      "\u001b[1;32m<ipython-input-8-49ee70e1e3cf>\u001b[0m in \u001b[0;36m<module>\u001b[1;34m\u001b[0m\n\u001b[0;32m      1\u001b[0m \u001b[0md\u001b[0m\u001b[1;33m=\u001b[0m\u001b[1;33m{\u001b[0m \u001b[1;34m'one'\u001b[0m\u001b[1;33m:\u001b[0m\u001b[1;36m100\u001b[0m\u001b[1;33m,\u001b[0m\u001b[1;34m'two'\u001b[0m\u001b[1;33m:\u001b[0m\u001b[1;36m200\u001b[0m\u001b[1;33m,\u001b[0m\u001b[1;34m'three'\u001b[0m\u001b[1;33m:\u001b[0m\u001b[1;36m300\u001b[0m\u001b[1;33m}\u001b[0m\u001b[1;33m\u001b[0m\u001b[1;33m\u001b[0m\u001b[0m\n\u001b[1;32m----> 2\u001b[1;33m \u001b[0md\u001b[0m\u001b[1;33m[\u001b[0m\u001b[1;34m'two'\u001b[0m\u001b[1;33m:\u001b[0m\u001b[1;34m'three'\u001b[0m\u001b[1;33m]\u001b[0m\u001b[1;33m\u001b[0m\u001b[1;33m\u001b[0m\u001b[0m\n\u001b[0m",
      "\u001b[1;31mTypeError\u001b[0m: unhashable type: 'slice'"
     ]
    }
   ],
   "source": [
    "d={ 'one':100,'two':200,'three':300}\n",
    "d['two':'three']"
   ]
  },
  {
   "cell_type": "code",
   "execution_count": 2,
   "metadata": {},
   "outputs": [
    {
     "name": "stdout",
     "output_type": "stream",
     "text": [
      "mama\n",
      "1\n"
     ]
    }
   ],
   "source": [
    "def forward_shift(strr):\n",
    "    strr=strr[1:]+strr[:1]\n",
    "    return strr\n",
    "def backward_shift(strr):\n",
    "    strr=strr[-1:]+strr[:-1]\n",
    "    return strr\n",
    "first=input()\n",
    "first=first.lower()\n",
    "first=first.replace(\" \", \"\")\n",
    "\n",
    "forr=forward_shift(first)\n",
    "back=backward_shift(first)\n",
    "\n",
    "if (forr == back):\n",
    "    print(1)\n",
    "else:\n",
    "    print (0)"
   ]
  },
  {
   "cell_type": "code",
   "execution_count": 2,
   "metadata": {},
   "outputs": [
    {
     "name": "stdout",
     "output_type": "stream",
     "text": [
      "fdlmnops\n"
     ]
    }
   ],
   "source": [
    "strr=\"sfdlmnop\"\n",
    "strr=strr[1:]+strr[:1]\n",
    "print(strr)"
   ]
  },
  {
   "cell_type": "code",
   "execution_count": 3,
   "metadata": {},
   "outputs": [
    {
     "name": "stdout",
     "output_type": "stream",
     "text": [
      "psfdlmno\n"
     ]
    }
   ],
   "source": [
    "strr=\"sfdlmnop\"\n",
    "strr=strr[-1:]+strr[:-1]\n",
    "print(strr)"
   ]
  },
  {
   "cell_type": "code",
   "execution_count": 4,
   "metadata": {},
   "outputs": [
    {
     "name": "stdout",
     "output_type": "stream",
     "text": [
      "ggoog\n",
      "go\n",
      "4\n"
     ]
    }
   ],
   "source": [
    "\n",
    "s1 = input()\n",
    "s2 = input()\n",
    "\n",
    "def recursion(m, n):\n",
    "    \n",
    "    if m == 0:\n",
    "        return n \n",
    "    \n",
    "    if n == 0:\n",
    "        return m \n",
    "        \n",
    "    if s1[m - 1] == s2[ n - 1]:\n",
    "        return recursion(m - 1, n - 1) \n",
    "    \n",
    "    return max ( recursion(m - 1, n) , recursion(m, n - 1) ) \n",
    "    \n",
    "\n",
    "\n",
    "x = recursion(len(s1), len(s2)) \n",
    "print(x)"
   ]
  },
  {
   "cell_type": "code",
   "execution_count": null,
   "metadata": {},
   "outputs": [],
   "source": []
  }
 ],
 "metadata": {
  "kernelspec": {
   "display_name": "Python 3",
   "language": "python",
   "name": "python3"
  },
  "language_info": {
   "codemirror_mode": {
    "name": "ipython",
    "version": 3
   },
   "file_extension": ".py",
   "mimetype": "text/x-python",
   "name": "python",
   "nbconvert_exporter": "python",
   "pygments_lexer": "ipython3",
   "version": "3.8.3"
  }
 },
 "nbformat": 4,
 "nbformat_minor": 2
}
